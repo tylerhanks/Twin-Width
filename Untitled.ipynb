{
 "cells": [
  {
   "cell_type": "code",
   "execution_count": 1,
   "id": "9f927a13-a9bd-41dd-a035-0301a07697d4",
   "metadata": {},
   "outputs": [
    {
     "name": "stdout",
     "output_type": "stream",
     "text": [
      "SymmetricReflexiveGraph\n"
     ]
    },
    {
     "data": {
      "text/plain": [
       "Catlab.CategoricalAlgebra.CSets.ACSetLimit{SymmetricReflexiveGraph, ParallelPair{SymmetricReflexiveGraph, SymmetricReflexiveGraph, StructTightACSetTransformation{TypeLevelBasicSchema{Symbol, Tuple{:V, :E}, Tuple{(:src, :E, :V), (:tgt, :E, :V), (:inv, :E, :E), (:refl, :V, :E)}, Tuple{}, Tuple{}, Tuple{(nothing, :E, :E, ((:inv, :inv), ())), (nothing, :E, :V, ((:inv, :src), (:tgt,))), (nothing, :E, :V, ((:inv, :tgt), (:src,))), (nothing, :V, :V, ((:refl, :src), ())), (nothing, :V, :V, ((:refl, :tgt), ())), (nothing, :V, :E, ((:refl, :inv), (:refl,)))}}, @NamedTuple{V::Catlab.CategoricalAlgebra.FinSets.FinDomFunctionVector{Int64, Vector{Int64}, Catlab.CategoricalAlgebra.FinSets.FinSetInt}, E::Catlab.CategoricalAlgebra.FinSets.FinDomFunctionVector{Int64, Vector{Int64}, Catlab.CategoricalAlgebra.FinSets.FinSetInt}}, SymmetricReflexiveGraph, SymmetricReflexiveGraph}, StaticArraysCore.SVector{2, StructTightACSetTransformation{TypeLevelBasicSchema{Symbol, Tuple{:V, :E}, Tuple{(:src, :E, :V), (:tgt, :E, :V), (:inv, :E, :E), (:refl, :V, :E)}, Tuple{}, Tuple{}, Tuple{(nothing, :E, :E, ((:inv, :inv), ())), (nothing, :E, :V, ((:inv, :src), (:tgt,))), (nothing, :E, :V, ((:inv, :tgt), (:src,))), (nothing, :V, :V, ((:refl, :src), ())), (nothing, :V, :V, ((:refl, :tgt), ())), (nothing, :V, :E, ((:refl, :inv), (:refl,)))}}, @NamedTuple{V::Catlab.CategoricalAlgebra.FinSets.FinDomFunctionVector{Int64, Vector{Int64}, Catlab.CategoricalAlgebra.FinSets.FinSetInt}, E::Catlab.CategoricalAlgebra.FinSets.FinDomFunctionVector{Int64, Vector{Int64}, Catlab.CategoricalAlgebra.FinSets.FinSetInt}}, SymmetricReflexiveGraph, SymmetricReflexiveGraph}}}, SMultispan{1, SymmetricReflexiveGraph, StructTightACSetTransformation{TypeLevelBasicSchema{Symbol, Tuple{:V, :E}, Tuple{(:src, :E, :V), (:tgt, :E, :V), (:inv, :E, :E), (:refl, :V, :E)}, Tuple{}, Tuple{}, Tuple{(nothing, :E, :E, ((:inv, :inv), ())), (nothing, :E, :V, ((:inv, :src), (:tgt,))), (nothing, :E, :V, ((:inv, :tgt), (:src,))), (nothing, :V, :V, ((:refl, :src), ())), (nothing, :V, :V, ((:refl, :tgt), ())), (nothing, :V, :E, ((:refl, :inv), (:refl,)))}}, @NamedTuple{V::Catlab.CategoricalAlgebra.FinSets.FinDomFunctionVector{Int64, Vector{Int64}, Catlab.CategoricalAlgebra.FinSets.FinSetInt}, E::Catlab.CategoricalAlgebra.FinSets.FinDomFunctionVector{Int64, Vector{Int64}, Catlab.CategoricalAlgebra.FinSets.FinSetInt}}, SymmetricReflexiveGraph, SymmetricReflexiveGraph}, StaticArraysCore.SVector{1, StructTightACSetTransformation{TypeLevelBasicSchema{Symbol, Tuple{:V, :E}, Tuple{(:src, :E, :V), (:tgt, :E, :V), (:inv, :E, :E), (:refl, :V, :E)}, Tuple{}, Tuple{}, Tuple{(nothing, :E, :E, ((:inv, :inv), ())), (nothing, :E, :V, ((:inv, :src), (:tgt,))), (nothing, :E, :V, ((:inv, :tgt), (:src,))), (nothing, :V, :V, ((:refl, :src), ())), (nothing, :V, :V, ((:refl, :tgt), ())), (nothing, :V, :E, ((:refl, :inv), (:refl,)))}}, @NamedTuple{V::Catlab.CategoricalAlgebra.FinSets.FinDomFunctionVector{Int64, Vector{Int64}, Catlab.CategoricalAlgebra.FinSets.FinSetInt}, E::Catlab.CategoricalAlgebra.FinSets.FinDomFunctionVector{Int64, Vector{Int64}, Catlab.CategoricalAlgebra.FinSets.FinSetInt}}, SymmetricReflexiveGraph, SymmetricReflexiveGraph}}}, @NamedTuple{V::Limit{Catlab.CategoricalAlgebra.FinSets.FinSetInt, ParallelPair{Catlab.CategoricalAlgebra.FinSets.FinSetInt, Catlab.CategoricalAlgebra.FinSets.FinSetInt, Catlab.CategoricalAlgebra.FinSets.FinDomFunctionVector{Int64, Vector{Int64}, Catlab.CategoricalAlgebra.FinSets.FinSetInt}, StaticArraysCore.SVector{2, Catlab.CategoricalAlgebra.FinSets.FinDomFunctionVector{Int64, Vector{Int64}, Catlab.CategoricalAlgebra.FinSets.FinSetInt}}}, SMultispan{1, Catlab.CategoricalAlgebra.FinSets.FinSetInt, Catlab.CategoricalAlgebra.FinSets.FinDomFunctionVector{Int64, Vector{Int64}, Catlab.CategoricalAlgebra.FinSets.FinSetInt}, StaticArraysCore.SVector{1, Catlab.CategoricalAlgebra.FinSets.FinDomFunctionVector{Int64, Vector{Int64}, Catlab.CategoricalAlgebra.FinSets.FinSetInt}}}}, E::Limit{Catlab.CategoricalAlgebra.FinSets.FinSetInt, ParallelPair{Catlab.CategoricalAlgebra.FinSets.FinSetInt, Catlab.CategoricalAlgebra.FinSets.FinSetInt, Catlab.CategoricalAlgebra.FinSets.FinDomFunctionVector{Int64, Vector{Int64}, Catlab.CategoricalAlgebra.FinSets.FinSetInt}, StaticArraysCore.SVector{2, Catlab.CategoricalAlgebra.FinSets.FinDomFunctionVector{Int64, Vector{Int64}, Catlab.CategoricalAlgebra.FinSets.FinSetInt}}}, SMultispan{1, Catlab.CategoricalAlgebra.FinSets.FinSetInt, Catlab.CategoricalAlgebra.FinSets.FinDomFunctionVector{Int64, Vector{Int64}, Catlab.CategoricalAlgebra.FinSets.FinSetInt}, StaticArraysCore.SVector{1, Catlab.CategoricalAlgebra.FinSets.FinDomFunctionVector{Int64, Vector{Int64}, Catlab.CategoricalAlgebra.FinSets.FinSetInt}}}}}}(ParallelPair{SymmetricReflexiveGraph, SymmetricReflexiveGraph, StructTightACSetTransformation{TypeLevelBasicSchema{Symbol, Tuple{:V, :E}, Tuple{(:src, :E, :V), (:tgt, :E, :V), (:inv, :E, :E), (:refl, :V, :E)}, Tuple{}, Tuple{}, Tuple{(nothing, :E, :E, ((:inv, :inv), ())), (nothing, :E, :V, ((:inv, :src), (:tgt,))), (nothing, :E, :V, ((:inv, :tgt), (:src,))), (nothing, :V, :V, ((:refl, :src), ())), (nothing, :V, :V, ((:refl, :tgt), ())), (nothing, :V, :E, ((:refl, :inv), (:refl,)))}}, @NamedTuple{V::Catlab.CategoricalAlgebra.FinSets.FinDomFunctionVector{Int64, Vector{Int64}, Catlab.CategoricalAlgebra.FinSets.FinSetInt}, E::Catlab.CategoricalAlgebra.FinSets.FinDomFunctionVector{Int64, Vector{Int64}, Catlab.CategoricalAlgebra.FinSets.FinSetInt}}, SymmetricReflexiveGraph, SymmetricReflexiveGraph}, StaticArraysCore.SVector{2, StructTightACSetTransformation{TypeLevelBasicSchema{Symbol, Tuple{:V, :E}, Tuple{(:src, :E, :V), (:tgt, :E, :V), (:inv, :E, :E), (:refl, :V, :E)}, Tuple{}, Tuple{}, Tuple{(nothing, :E, :E, ((:inv, :inv), ())), (nothing, :E, :V, ((:inv, :src), (:tgt,))), (nothing, :E, :V, ((:inv, :tgt), (:src,))), (nothing, :V, :V, ((:refl, :src), ())), (nothing, :V, :V, ((:refl, :tgt), ())), (nothing, :V, :E, ((:refl, :inv), (:refl,)))}}, @NamedTuple{V::Catlab.CategoricalAlgebra.FinSets.FinDomFunctionVector{Int64, Vector{Int64}, Catlab.CategoricalAlgebra.FinSets.FinSetInt}, E::Catlab.CategoricalAlgebra.FinSets.FinDomFunctionVector{Int64, Vector{Int64}, Catlab.CategoricalAlgebra.FinSets.FinSetInt}}, SymmetricReflexiveGraph, SymmetricReflexiveGraph}}}(SymmetricReflexiveGraph:\n",
       "  V = 1:3\n",
       "  E = 1:9\n",
       "  src : E → V = [1, 2, 1, 2, 3, 3, 2, 1, 3]\n",
       "  tgt : E → V = [1, 2, 2, 1, 3, 2, 3, 3, 1]\n",
       "  inv : E → E = [1, 2, 4, 3, 5, 7, 6, 9, 8]\n",
       "  refl : V → E = [1, 2, 5], SymmetricReflexiveGraph:\n",
       "  V = 1:3\n",
       "  E = 1:11\n",
       "  src : E → V = [1, 2, 1, 2, 3, 3, 2, 1, 3, 1, 3]\n",
       "  tgt : E → V = [1, 2, 2, 1, 3, 2, 3, 3, 1, 3, 1]\n",
       "  inv : E → E = [1, 2, 4, 3, 5, 7, 6, 9, 8, 11, 10]\n",
       "  refl : V → E = [1, 2, 5], StructTightACSetTransformation{TypeLevelBasicSchema{Symbol, Tuple{:V, :E}, Tuple{(:src, :E, :V), (:tgt, :E, :V), (:inv, :E, :E), (:refl, :V, :E)}, Tuple{}, Tuple{}, Tuple{(nothing, :E, :E, ((:inv, :inv), ())), (nothing, :E, :V, ((:inv, :src), (:tgt,))), (nothing, :E, :V, ((:inv, :tgt), (:src,))), (nothing, :V, :V, ((:refl, :src), ())), (nothing, :V, :V, ((:refl, :tgt), ())), (nothing, :V, :E, ((:refl, :inv), (:refl,)))}}, @NamedTuple{V::Catlab.CategoricalAlgebra.FinSets.FinDomFunctionVector{Int64, Vector{Int64}, Catlab.CategoricalAlgebra.FinSets.FinSetInt}, E::Catlab.CategoricalAlgebra.FinSets.FinDomFunctionVector{Int64, Vector{Int64}, Catlab.CategoricalAlgebra.FinSets.FinSetInt}}, SymmetricReflexiveGraph, SymmetricReflexiveGraph}[ACSetTransformation((V = FinFunction([1, 2, 3], 3, 3), E = FinFunction([1, 2, 3, 4, 5, 6, 7, 8, 9], 9, 11)), SymmetricReflexiveGraph {V:3, E:9}, SymmetricReflexiveGraph {V:3, E:11}), ACSetTransformation((V = FinFunction([1, 2, 3], 3, 3), E = FinFunction([1, 2, 3, 4, 5, 6, 7, 10, 11], 9, 11)), SymmetricReflexiveGraph {V:3, E:9}, SymmetricReflexiveGraph {V:3, E:11})]), SMultispan{1, SymmetricReflexiveGraph, StructTightACSetTransformation{TypeLevelBasicSchema{Symbol, Tuple{:V, :E}, Tuple{(:src, :E, :V), (:tgt, :E, :V), (:inv, :E, :E), (:refl, :V, :E)}, Tuple{}, Tuple{}, Tuple{(nothing, :E, :E, ((:inv, :inv), ())), (nothing, :E, :V, ((:inv, :src), (:tgt,))), (nothing, :E, :V, ((:inv, :tgt), (:src,))), (nothing, :V, :V, ((:refl, :src), ())), (nothing, :V, :V, ((:refl, :tgt), ())), (nothing, :V, :E, ((:refl, :inv), (:refl,)))}}, @NamedTuple{V::Catlab.CategoricalAlgebra.FinSets.FinDomFunctionVector{Int64, Vector{Int64}, Catlab.CategoricalAlgebra.FinSets.FinSetInt}, E::Catlab.CategoricalAlgebra.FinSets.FinDomFunctionVector{Int64, Vector{Int64}, Catlab.CategoricalAlgebra.FinSets.FinSetInt}}, SymmetricReflexiveGraph, SymmetricReflexiveGraph}, StaticArraysCore.SVector{1, StructTightACSetTransformation{TypeLevelBasicSchema{Symbol, Tuple{:V, :E}, Tuple{(:src, :E, :V), (:tgt, :E, :V), (:inv, :E, :E), (:refl, :V, :E)}, Tuple{}, Tuple{}, Tuple{(nothing, :E, :E, ((:inv, :inv), ())), (nothing, :E, :V, ((:inv, :src), (:tgt,))), (nothing, :E, :V, ((:inv, :tgt), (:src,))), (nothing, :V, :V, ((:refl, :src), ())), (nothing, :V, :V, ((:refl, :tgt), ())), (nothing, :V, :E, ((:refl, :inv), (:refl,)))}}, @NamedTuple{V::Catlab.CategoricalAlgebra.FinSets.FinDomFunctionVector{Int64, Vector{Int64}, Catlab.CategoricalAlgebra.FinSets.FinSetInt}, E::Catlab.CategoricalAlgebra.FinSets.FinDomFunctionVector{Int64, Vector{Int64}, Catlab.CategoricalAlgebra.FinSets.FinSetInt}}, SymmetricReflexiveGraph, SymmetricReflexiveGraph}}}(SymmetricReflexiveGraph:\n",
       "  V = 1:3\n",
       "  E = 1:7\n",
       "  src : E → V = [1, 2, 1, 2, 3, 3, 2]\n",
       "  tgt : E → V = [1, 2, 2, 1, 3, 2, 3]\n",
       "  inv : E → E = [1, 2, 4, 3, 5, 7, 6]\n",
       "  refl : V → E = [1, 2, 5], StructTightACSetTransformation{TypeLevelBasicSchema{Symbol, Tuple{:V, :E}, Tuple{(:src, :E, :V), (:tgt, :E, :V), (:inv, :E, :E), (:refl, :V, :E)}, Tuple{}, Tuple{}, Tuple{(nothing, :E, :E, ((:inv, :inv), ())), (nothing, :E, :V, ((:inv, :src), (:tgt,))), (nothing, :E, :V, ((:inv, :tgt), (:src,))), (nothing, :V, :V, ((:refl, :src), ())), (nothing, :V, :V, ((:refl, :tgt), ())), (nothing, :V, :E, ((:refl, :inv), (:refl,)))}}, @NamedTuple{V::Catlab.CategoricalAlgebra.FinSets.FinDomFunctionVector{Int64, Vector{Int64}, Catlab.CategoricalAlgebra.FinSets.FinSetInt}, E::Catlab.CategoricalAlgebra.FinSets.FinDomFunctionVector{Int64, Vector{Int64}, Catlab.CategoricalAlgebra.FinSets.FinSetInt}}, SymmetricReflexiveGraph, SymmetricReflexiveGraph}[ACSetTransformation((V = FinFunction([1, 2, 3], 3, 3), E = FinFunction([1, 2, 3, 4, 5, 6, 7], 7, 9)), SymmetricReflexiveGraph {V:3, E:7}, SymmetricReflexiveGraph {V:3, E:9})]), (V = Limit{Catlab.CategoricalAlgebra.FinSets.FinSetInt, ParallelPair{Catlab.CategoricalAlgebra.FinSets.FinSetInt, Catlab.CategoricalAlgebra.FinSets.FinSetInt, Catlab.CategoricalAlgebra.FinSets.FinDomFunctionVector{Int64, Vector{Int64}, Catlab.CategoricalAlgebra.FinSets.FinSetInt}, StaticArraysCore.SVector{2, Catlab.CategoricalAlgebra.FinSets.FinDomFunctionVector{Int64, Vector{Int64}, Catlab.CategoricalAlgebra.FinSets.FinSetInt}}}, SMultispan{1, Catlab.CategoricalAlgebra.FinSets.FinSetInt, Catlab.CategoricalAlgebra.FinSets.FinDomFunctionVector{Int64, Vector{Int64}, Catlab.CategoricalAlgebra.FinSets.FinSetInt}, StaticArraysCore.SVector{1, Catlab.CategoricalAlgebra.FinSets.FinDomFunctionVector{Int64, Vector{Int64}, Catlab.CategoricalAlgebra.FinSets.FinSetInt}}}}(ParallelPair{Catlab.CategoricalAlgebra.FinSets.FinSetInt, Catlab.CategoricalAlgebra.FinSets.FinSetInt, Catlab.CategoricalAlgebra.FinSets.FinDomFunctionVector{Int64, Vector{Int64}, Catlab.CategoricalAlgebra.FinSets.FinSetInt}, StaticArraysCore.SVector{2, Catlab.CategoricalAlgebra.FinSets.FinDomFunctionVector{Int64, Vector{Int64}, Catlab.CategoricalAlgebra.FinSets.FinSetInt}}}(FinSet(3), FinSet(3), Catlab.CategoricalAlgebra.FinSets.FinDomFunctionVector{Int64, Vector{Int64}, Catlab.CategoricalAlgebra.FinSets.FinSetInt}[FinFunction([1, 2, 3], 3, 3), FinFunction([1, 2, 3], 3, 3)]), SMultispan{1, Catlab.CategoricalAlgebra.FinSets.FinSetInt, Catlab.CategoricalAlgebra.FinSets.FinDomFunctionVector{Int64, Vector{Int64}, Catlab.CategoricalAlgebra.FinSets.FinSetInt}, StaticArraysCore.SVector{1, Catlab.CategoricalAlgebra.FinSets.FinDomFunctionVector{Int64, Vector{Int64}, Catlab.CategoricalAlgebra.FinSets.FinSetInt}}}(FinSet(3), Catlab.CategoricalAlgebra.FinSets.FinDomFunctionVector{Int64, Vector{Int64}, Catlab.CategoricalAlgebra.FinSets.FinSetInt}[FinFunction([1, 2, 3], 3, 3)])), E = Limit{Catlab.CategoricalAlgebra.FinSets.FinSetInt, ParallelPair{Catlab.CategoricalAlgebra.FinSets.FinSetInt, Catlab.CategoricalAlgebra.FinSets.FinSetInt, Catlab.CategoricalAlgebra.FinSets.FinDomFunctionVector{Int64, Vector{Int64}, Catlab.CategoricalAlgebra.FinSets.FinSetInt}, StaticArraysCore.SVector{2, Catlab.CategoricalAlgebra.FinSets.FinDomFunctionVector{Int64, Vector{Int64}, Catlab.CategoricalAlgebra.FinSets.FinSetInt}}}, SMultispan{1, Catlab.CategoricalAlgebra.FinSets.FinSetInt, Catlab.CategoricalAlgebra.FinSets.FinDomFunctionVector{Int64, Vector{Int64}, Catlab.CategoricalAlgebra.FinSets.FinSetInt}, StaticArraysCore.SVector{1, Catlab.CategoricalAlgebra.FinSets.FinDomFunctionVector{Int64, Vector{Int64}, Catlab.CategoricalAlgebra.FinSets.FinSetInt}}}}(ParallelPair{Catlab.CategoricalAlgebra.FinSets.FinSetInt, Catlab.CategoricalAlgebra.FinSets.FinSetInt, Catlab.CategoricalAlgebra.FinSets.FinDomFunctionVector{Int64, Vector{Int64}, Catlab.CategoricalAlgebra.FinSets.FinSetInt}, StaticArraysCore.SVector{2, Catlab.CategoricalAlgebra.FinSets.FinDomFunctionVector{Int64, Vector{Int64}, Catlab.CategoricalAlgebra.FinSets.FinSetInt}}}(FinSet(9), FinSet(11), Catlab.CategoricalAlgebra.FinSets.FinDomFunctionVector{Int64, Vector{Int64}, Catlab.CategoricalAlgebra.FinSets.FinSetInt}[FinFunction([1, 2, 3, 4, 5, 6, 7, 8, 9], 9, 11), FinFunction([1, 2, 3, 4, 5, 6, 7, 10, 11], 9, 11)]), SMultispan{1, Catlab.CategoricalAlgebra.FinSets.FinSetInt, Catlab.CategoricalAlgebra.FinSets.FinDomFunctionVector{Int64, Vector{Int64}, Catlab.CategoricalAlgebra.FinSets.FinSetInt}, StaticArraysCore.SVector{1, Catlab.CategoricalAlgebra.FinSets.FinDomFunctionVector{Int64, Vector{Int64}, Catlab.CategoricalAlgebra.FinSets.FinSetInt}}}(FinSet(7), Catlab.CategoricalAlgebra.FinSets.FinDomFunctionVector{Int64, Vector{Int64}, Catlab.CategoricalAlgebra.FinSets.FinSetInt}[FinFunction([1, 2, 3, 4, 5, 6, 7], 7, 9)]))))"
      ]
     },
     "execution_count": 1,
     "metadata": {},
     "output_type": "execute_result"
    }
   ],
   "source": [
    "include(\"twinwidth.jl\")"
   ]
  },
  {
   "cell_type": "code",
   "execution_count": 5,
   "id": "129e7a65-ec80-46dc-b97b-995c40105d50",
   "metadata": {},
   "outputs": [
    {
     "data": {
      "image/svg+xml": [
       "<?xml version=\"1.0\" encoding=\"UTF-8\" standalone=\"no\"?>\n",
       "<!DOCTYPE svg PUBLIC \"-//W3C//DTD SVG 1.1//EN\"\n",
       " \"http://www.w3.org/Graphics/SVG/1.1/DTD/svg11.dtd\">\n",
       "<!-- Generated by graphviz version 12.2.0 (20241103.1931)\n",
       " -->\n",
       "<!-- Title: G Pages: 1 -->\n",
       "<svg width=\"71pt\" height=\"102pt\"\n",
       " viewBox=\"0.00 0.00 71.42 101.79\" xmlns=\"http://www.w3.org/2000/svg\" xmlns:xlink=\"http://www.w3.org/1999/xlink\">\n",
       "<g id=\"graph0\" class=\"graph\" transform=\"scale(1 1) rotate(0) translate(4 97.79)\">\n",
       "<title>G</title>\n",
       "<polygon fill=\"white\" stroke=\"none\" points=\"-4,4 -4,-97.79 67.42,-97.79 67.42,4 -4,4\"/>\n",
       "<!-- n1 -->\n",
       "<g id=\"node1\" class=\"node\">\n",
       "<title>n1</title>\n",
       "<ellipse fill=\"none\" stroke=\"black\" cx=\"23.92\" cy=\"-46.23\" rx=\"11.67\" ry=\"11.67\"/>\n",
       "<text text-anchor=\"middle\" x=\"23.92\" y=\"-41.18\" font-family=\"Times,serif\" font-size=\"14.00\">1</text>\n",
       "</g>\n",
       "<!-- n2 -->\n",
       "<g id=\"node2\" class=\"node\">\n",
       "<title>n2</title>\n",
       "<ellipse fill=\"none\" stroke=\"black\" cx=\"51.75\" cy=\"-69.68\" rx=\"11.67\" ry=\"11.67\"/>\n",
       "<text text-anchor=\"middle\" x=\"51.75\" y=\"-64.63\" font-family=\"Times,serif\" font-size=\"14.00\">2</text>\n",
       "</g>\n",
       "<!-- n1&#45;&#45;n2 -->\n",
       "<g id=\"edge1\" class=\"edge\">\n",
       "<title>n1&#45;&#45;n2</title>\n",
       "<path fill=\"none\" stroke=\"black\" d=\"M33.03,-53.91C36.07,-56.47 39.47,-59.33 42.52,-61.9\"/>\n",
       "</g>\n",
       "<!-- n4 -->\n",
       "<g id=\"node4\" class=\"node\">\n",
       "<title>n4</title>\n",
       "<ellipse fill=\"none\" stroke=\"black\" cx=\"18.07\" cy=\"-82.12\" rx=\"11.67\" ry=\"11.67\"/>\n",
       "<text text-anchor=\"middle\" x=\"18.07\" y=\"-77.07\" font-family=\"Times,serif\" font-size=\"14.00\">4</text>\n",
       "</g>\n",
       "<!-- n1&#45;&#45;n4 -->\n",
       "<g id=\"edge4\" class=\"edge\">\n",
       "<title>n1&#45;&#45;n4</title>\n",
       "<path fill=\"none\" stroke=\"black\" d=\"M22,-57.98C21.36,-61.9 20.65,-66.28 20.01,-70.22\"/>\n",
       "</g>\n",
       "<!-- n3 -->\n",
       "<g id=\"node3\" class=\"node\">\n",
       "<title>n3</title>\n",
       "<ellipse fill=\"none\" stroke=\"black\" cx=\"11.67\" cy=\"-11.67\" rx=\"11.67\" ry=\"11.67\"/>\n",
       "<text text-anchor=\"middle\" x=\"11.67\" y=\"-6.62\" font-family=\"Times,serif\" font-size=\"14.00\">3</text>\n",
       "</g>\n",
       "<!-- n3&#45;&#45;n1 -->\n",
       "<g id=\"edge2\" class=\"edge\">\n",
       "<title>n3&#45;&#45;n1</title>\n",
       "<path fill=\"none\" stroke=\"black\" d=\"M15.68,-22.98C17.02,-26.76 18.51,-30.98 19.85,-34.77\"/>\n",
       "</g>\n",
       "<!-- n4&#45;&#45;n2 -->\n",
       "<g id=\"edge3\" class=\"edge\">\n",
       "<title>n4&#45;&#45;n2</title>\n",
       "<path fill=\"none\" stroke=\"black\" d=\"M29.47,-77.91C32.98,-76.61 36.85,-75.18 40.36,-73.89\"/>\n",
       "</g>\n",
       "</g>\n",
       "</svg>\n"
      ],
      "text/plain": [
       "Catlab.Graphics.Graphviz.Graph(\"G\", false, \"neato\", Catlab.Graphics.Graphviz.Statement[Catlab.Graphics.Graphviz.Node(\"n1\", OrderedCollections.OrderedDict{Symbol, Union{String, Catlab.Graphics.Graphviz.Html}}(:label => \"1\")), Catlab.Graphics.Graphviz.Node(\"n2\", OrderedCollections.OrderedDict{Symbol, Union{String, Catlab.Graphics.Graphviz.Html}}(:label => \"2\")), Catlab.Graphics.Graphviz.Node(\"n3\", OrderedCollections.OrderedDict{Symbol, Union{String, Catlab.Graphics.Graphviz.Html}}(:label => \"3\")), Catlab.Graphics.Graphviz.Node(\"n4\", OrderedCollections.OrderedDict{Symbol, Union{String, Catlab.Graphics.Graphviz.Html}}(:label => \"4\")), Catlab.Graphics.Graphviz.Edge(Catlab.Graphics.Graphviz.NodeID[Catlab.Graphics.Graphviz.NodeID(\"n1\", \"\", \"\"), Catlab.Graphics.Graphviz.NodeID(\"n2\", \"\", \"\")], OrderedCollections.OrderedDict{Symbol, Union{String, Catlab.Graphics.Graphviz.Html}}()), Catlab.Graphics.Graphviz.Edge(Catlab.Graphics.Graphviz.NodeID[Catlab.Graphics.Graphviz.NodeID(\"n3\", \"\", \"\"), Catlab.Graphics.Graphviz.NodeID(\"n1\", \"\", \"\")], OrderedCollections.OrderedDict{Symbol, Union{String, Catlab.Graphics.Graphviz.Html}}()), Catlab.Graphics.Graphviz.Edge(Catlab.Graphics.Graphviz.NodeID[Catlab.Graphics.Graphviz.NodeID(\"n4\", \"\", \"\"), Catlab.Graphics.Graphviz.NodeID(\"n2\", \"\", \"\")], OrderedCollections.OrderedDict{Symbol, Union{String, Catlab.Graphics.Graphviz.Html}}()), Catlab.Graphics.Graphviz.Edge(Catlab.Graphics.Graphviz.NodeID[Catlab.Graphics.Graphviz.NodeID(\"n1\", \"\", \"\"), Catlab.Graphics.Graphviz.NodeID(\"n4\", \"\", \"\")], OrderedCollections.OrderedDict{Symbol, Union{String, Catlab.Graphics.Graphviz.Html}}())], OrderedCollections.OrderedDict{Symbol, Union{String, Catlab.Graphics.Graphviz.Html}}(), OrderedCollections.OrderedDict{Symbol, Union{String, Catlab.Graphics.Graphviz.Html}}(:height => \"0.05\", :margin => \"0\", :shape => \"circle\", :width => \"0.05\"), OrderedCollections.OrderedDict{Symbol, Union{String, Catlab.Graphics.Graphviz.Html}}(:arrowsize => \"0.5\", :len => \"0.5\"))"
      ]
     },
     "execution_count": 5,
     "metadata": {},
     "output_type": "execute_result"
    }
   ],
   "source": [
    "to_graphviz(G, node_labels = true)"
   ]
  },
  {
   "cell_type": "code",
   "execution_count": 6,
   "id": "ea212dec-e119-4cf2-8395-cabda7574c4e",
   "metadata": {},
   "outputs": [
    {
     "data": {
      "image/svg+xml": [
       "<?xml version=\"1.0\" encoding=\"UTF-8\" standalone=\"no\"?>\n",
       "<!DOCTYPE svg PUBLIC \"-//W3C//DTD SVG 1.1//EN\"\n",
       " \"http://www.w3.org/Graphics/SVG/1.1/DTD/svg11.dtd\">\n",
       "<!-- Generated by graphviz version 12.2.0 (20241103.1931)\n",
       " -->\n",
       "<!-- Title: G Pages: 1 -->\n",
       "<svg width=\"65pt\" height=\"94pt\"\n",
       " viewBox=\"0.00 0.00 65.45 94.07\" xmlns=\"http://www.w3.org/2000/svg\" xmlns:xlink=\"http://www.w3.org/1999/xlink\">\n",
       "<g id=\"graph0\" class=\"graph\" transform=\"scale(1 1) rotate(0) translate(4 90.07)\">\n",
       "<title>G</title>\n",
       "<polygon fill=\"white\" stroke=\"none\" points=\"-4,4 -4,-90.07 61.45,-90.07 61.45,4 -4,4\"/>\n",
       "<!-- n1 -->\n",
       "<g id=\"node1\" class=\"node\">\n",
       "<title>n1</title>\n",
       "<ellipse fill=\"none\" stroke=\"black\" cx=\"11.67\" cy=\"-74.41\" rx=\"11.67\" ry=\"11.67\"/>\n",
       "<text text-anchor=\"middle\" x=\"11.67\" y=\"-69.36\" font-family=\"Times,serif\" font-size=\"14.00\">1</text>\n",
       "</g>\n",
       "<!-- n2 -->\n",
       "<g id=\"node2\" class=\"node\">\n",
       "<title>n2</title>\n",
       "<ellipse fill=\"none\" stroke=\"black\" cx=\"33.63\" cy=\"-45.71\" rx=\"11.67\" ry=\"11.67\"/>\n",
       "<text text-anchor=\"middle\" x=\"33.63\" y=\"-40.66\" font-family=\"Times,serif\" font-size=\"14.00\">2</text>\n",
       "</g>\n",
       "<!-- n1&#45;&#45;n2 -->\n",
       "<g id=\"edge1\" class=\"edge\">\n",
       "<title>n1&#45;&#45;n2</title>\n",
       "<path fill=\"none\" stroke=\"black\" d=\"M18.86,-65.01C21.26,-61.87 23.94,-58.37 26.35,-55.22\"/>\n",
       "</g>\n",
       "<!-- n3 -->\n",
       "<g id=\"node3\" class=\"node\">\n",
       "<title>n3</title>\n",
       "<ellipse fill=\"none\" stroke=\"black\" cx=\"45.78\" cy=\"-11.67\" rx=\"11.67\" ry=\"11.67\"/>\n",
       "<text text-anchor=\"middle\" x=\"45.78\" y=\"-6.62\" font-family=\"Times,serif\" font-size=\"14.00\">3</text>\n",
       "</g>\n",
       "<!-- n3&#45;&#45;n2 -->\n",
       "<g id=\"edge2\" class=\"edge\">\n",
       "<title>n3&#45;&#45;n2</title>\n",
       "<path fill=\"none\" stroke=\"black\" d=\"M41.8,-22.81C40.47,-26.54 38.99,-30.69 37.66,-34.42\"/>\n",
       "</g>\n",
       "</g>\n",
       "</svg>\n"
      ],
      "text/plain": [
       "Catlab.Graphics.Graphviz.Graph(\"G\", false, \"neato\", Catlab.Graphics.Graphviz.Statement[Catlab.Graphics.Graphviz.Node(\"n1\", OrderedCollections.OrderedDict{Symbol, Union{String, Catlab.Graphics.Graphviz.Html}}(:label => \"1\")), Catlab.Graphics.Graphviz.Node(\"n2\", OrderedCollections.OrderedDict{Symbol, Union{String, Catlab.Graphics.Graphviz.Html}}(:label => \"2\")), Catlab.Graphics.Graphviz.Node(\"n3\", OrderedCollections.OrderedDict{Symbol, Union{String, Catlab.Graphics.Graphviz.Html}}(:label => \"3\")), Catlab.Graphics.Graphviz.Edge(Catlab.Graphics.Graphviz.NodeID[Catlab.Graphics.Graphviz.NodeID(\"n1\", \"\", \"\"), Catlab.Graphics.Graphviz.NodeID(\"n2\", \"\", \"\")], OrderedCollections.OrderedDict{Symbol, Union{String, Catlab.Graphics.Graphviz.Html}}()), Catlab.Graphics.Graphviz.Edge(Catlab.Graphics.Graphviz.NodeID[Catlab.Graphics.Graphviz.NodeID(\"n3\", \"\", \"\"), Catlab.Graphics.Graphviz.NodeID(\"n2\", \"\", \"\")], OrderedCollections.OrderedDict{Symbol, Union{String, Catlab.Graphics.Graphviz.Html}}())], OrderedCollections.OrderedDict{Symbol, Union{String, Catlab.Graphics.Graphviz.Html}}(), OrderedCollections.OrderedDict{Symbol, Union{String, Catlab.Graphics.Graphviz.Html}}(:height => \"0.05\", :margin => \"0\", :shape => \"circle\", :width => \"0.05\"), OrderedCollections.OrderedDict{Symbol, Union{String, Catlab.Graphics.Graphviz.Html}}(:arrowsize => \"0.5\", :len => \"0.5\"))"
      ]
     },
     "execution_count": 6,
     "metadata": {},
     "output_type": "execute_result"
    }
   ],
   "source": [
    "to_graphviz(apex(B), node_labels=true)"
   ]
  },
  {
   "cell_type": "code",
   "execution_count": null,
   "id": "127f51a8-b5e6-4264-bcdd-5dbc277b6218",
   "metadata": {},
   "outputs": [],
   "source": []
  }
 ],
 "metadata": {
  "kernelspec": {
   "display_name": "Julia 1.11.2",
   "language": "julia",
   "name": "julia-1.11"
  },
  "language_info": {
   "file_extension": ".jl",
   "mimetype": "application/julia",
   "name": "julia",
   "version": "1.11.2"
  }
 },
 "nbformat": 4,
 "nbformat_minor": 5
}
